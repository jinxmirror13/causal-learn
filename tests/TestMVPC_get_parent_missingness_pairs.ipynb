{
 "cells": [
  {
   "cell_type": "markdown",
   "metadata": {},
   "source": [
    "# Test of the function, get_parent_missingness_pairs()"
   ]
  },
  {
   "cell_type": "code",
   "execution_count": 1,
   "metadata": {
    "ExecuteTime": {
     "end_time": "2023-05-11T18:30:51.803785Z",
     "start_time": "2023-05-11T18:30:50.420053Z"
    }
   },
   "outputs": [
    {
     "name": "stderr",
     "output_type": "stream",
     "text": [
      "/home/khighnam/miniconda3/envs/causal/lib/python3.7/site-packages/tqdm/auto.py:21: TqdmWarning: IProgress not found. Please update jupyter and ipywidgets. See https://ipywidgets.readthedocs.io/en/stable/user_install.html\n",
      "  from .autonotebook import tqdm as notebook_tqdm\n"
     ]
    }
   ],
   "source": [
    "import sys\n",
    "import os\n",
    " \n",
    "path = os.getcwd()\n",
    "path = os.path.abspath(os.path.join(path, os.pardir))\n",
    "sys.path.append(path)\n",
    "import causallearn.search.ConstraintBased.PC as pcp\n",
    "from causallearn.utils.cit import MV_FisherZ\n",
    "import numpy as np\n"
   ]
  },
  {
   "cell_type": "markdown",
   "metadata": {},
   "source": [
    "## Generate data with missing values"
   ]
  },
  {
   "cell_type": "code",
   "execution_count": 2,
   "metadata": {
    "ExecuteTime": {
     "end_time": "2023-05-11T18:30:53.585369Z",
     "start_time": "2023-05-11T18:30:53.572171Z"
    }
   },
   "outputs": [],
   "source": [
    "sz = 1000\n",
    "data = np.zeros((sz, 4))\n",
    "\n",
    "X = np.random.normal(0, 1.0, size=sz)\n",
    "Z = 2 * X + 0.5 * np.random.normal(0, 1.0, size=sz)\n",
    "Y = 0.5 * Z + 0.5 * np.random.normal(0, 1.0, size=sz)\n",
    "W = 0.2 * X + 0.8 * Y + 0.5 * np.random.normal(0, 1.0, size=sz)\n",
    "U = np.random.normal(0, 1.0, size=sz)\n",
    "data[:, 0], data[:, 1], data[:, 2], data[:, 3] = X, Y, Z, W\n",
    "mdata = data.copy()\n",
    "\n",
    "# X--> Z -->Y\n",
    "# X--> W <--Y\n",
    "# W --> Rx\n",
    "# Z --> Ry\n",
    "\n",
    "mdata[W > 0, 0] = np.nan\n",
    "mdata[Z > 0, 1] = np.nan"
   ]
  },
  {
   "cell_type": "code",
   "execution_count": 3,
   "metadata": {
    "ExecuteTime": {
     "end_time": "2023-05-11T18:30:54.118061Z",
     "start_time": "2023-05-11T18:30:54.100522Z"
    }
   },
   "outputs": [
    {
     "data": {
      "text/html": [
       "<div>\n",
       "<style scoped>\n",
       "    .dataframe tbody tr th:only-of-type {\n",
       "        vertical-align: middle;\n",
       "    }\n",
       "\n",
       "    .dataframe tbody tr th {\n",
       "        vertical-align: top;\n",
       "    }\n",
       "\n",
       "    .dataframe thead th {\n",
       "        text-align: right;\n",
       "    }\n",
       "</style>\n",
       "<table border=\"1\" class=\"dataframe\">\n",
       "  <thead>\n",
       "    <tr style=\"text-align: right;\">\n",
       "      <th></th>\n",
       "      <th>X</th>\n",
       "      <th>Y</th>\n",
       "      <th>Z</th>\n",
       "      <th>W</th>\n",
       "    </tr>\n",
       "  </thead>\n",
       "  <tbody>\n",
       "    <tr>\n",
       "      <th>0</th>\n",
       "      <td>-0.560873</td>\n",
       "      <td>-0.754668</td>\n",
       "      <td>-1.277897</td>\n",
       "      <td>-0.674345</td>\n",
       "    </tr>\n",
       "    <tr>\n",
       "      <th>1</th>\n",
       "      <td>NaN</td>\n",
       "      <td>NaN</td>\n",
       "      <td>0.686794</td>\n",
       "      <td>0.765070</td>\n",
       "    </tr>\n",
       "    <tr>\n",
       "      <th>2</th>\n",
       "      <td>NaN</td>\n",
       "      <td>NaN</td>\n",
       "      <td>1.197762</td>\n",
       "      <td>1.151776</td>\n",
       "    </tr>\n",
       "    <tr>\n",
       "      <th>3</th>\n",
       "      <td>-0.599280</td>\n",
       "      <td>0.514078</td>\n",
       "      <td>-1.424014</td>\n",
       "      <td>-0.071297</td>\n",
       "    </tr>\n",
       "    <tr>\n",
       "      <th>4</th>\n",
       "      <td>NaN</td>\n",
       "      <td>NaN</td>\n",
       "      <td>2.694996</td>\n",
       "      <td>1.020466</td>\n",
       "    </tr>\n",
       "    <tr>\n",
       "      <th>...</th>\n",
       "      <td>...</td>\n",
       "      <td>...</td>\n",
       "      <td>...</td>\n",
       "      <td>...</td>\n",
       "    </tr>\n",
       "    <tr>\n",
       "      <th>995</th>\n",
       "      <td>0.670461</td>\n",
       "      <td>NaN</td>\n",
       "      <td>0.279784</td>\n",
       "      <td>-0.766820</td>\n",
       "    </tr>\n",
       "    <tr>\n",
       "      <th>996</th>\n",
       "      <td>NaN</td>\n",
       "      <td>NaN</td>\n",
       "      <td>1.555190</td>\n",
       "      <td>0.519234</td>\n",
       "    </tr>\n",
       "    <tr>\n",
       "      <th>997</th>\n",
       "      <td>NaN</td>\n",
       "      <td>0.278712</td>\n",
       "      <td>-1.026707</td>\n",
       "      <td>0.360521</td>\n",
       "    </tr>\n",
       "    <tr>\n",
       "      <th>998</th>\n",
       "      <td>NaN</td>\n",
       "      <td>0.304779</td>\n",
       "      <td>-0.416463</td>\n",
       "      <td>0.379234</td>\n",
       "    </tr>\n",
       "    <tr>\n",
       "      <th>999</th>\n",
       "      <td>-1.656177</td>\n",
       "      <td>-0.902095</td>\n",
       "      <td>-2.729129</td>\n",
       "      <td>-0.598507</td>\n",
       "    </tr>\n",
       "  </tbody>\n",
       "</table>\n",
       "<p>1000 rows × 4 columns</p>\n",
       "</div>"
      ],
      "text/plain": [
       "            X         Y         Z         W\n",
       "0   -0.560873 -0.754668 -1.277897 -0.674345\n",
       "1         NaN       NaN  0.686794  0.765070\n",
       "2         NaN       NaN  1.197762  1.151776\n",
       "3   -0.599280  0.514078 -1.424014 -0.071297\n",
       "4         NaN       NaN  2.694996  1.020466\n",
       "..        ...       ...       ...       ...\n",
       "995  0.670461       NaN  0.279784 -0.766820\n",
       "996       NaN       NaN  1.555190  0.519234\n",
       "997       NaN  0.278712 -1.026707  0.360521\n",
       "998       NaN  0.304779 -0.416463  0.379234\n",
       "999 -1.656177 -0.902095 -2.729129 -0.598507\n",
       "\n",
       "[1000 rows x 4 columns]"
      ]
     },
     "execution_count": 3,
     "metadata": {},
     "output_type": "execute_result"
    }
   ],
   "source": [
    "import pandas as pd\n",
    "df = pd.DataFrame(mdata, columns = ['X','Y','Z','W'])\n",
    "df"
   ]
  },
  {
   "cell_type": "markdown",
   "metadata": {},
   "source": [
    "## Test the correctness of the function\n",
    "* Index 3 is the direct cause of the missingness indicator of index 0;  \n",
    "* Index 2 is the direct cause of the missingness indicator of index 1;  \n",
    "* The correct result should be {'prt':[array(3),array(2)], 'm': [0, 1]}"
   ]
  },
  {
   "cell_type": "code",
   "execution_count": 4,
   "metadata": {
    "ExecuteTime": {
     "end_time": "2023-05-11T18:30:55.989180Z",
     "start_time": "2023-05-11T18:30:55.779455Z"
    }
   },
   "outputs": [
    {
     "ename": "AttributeError",
     "evalue": "'str' object has no attribute 'method'",
     "output_type": "error",
     "traceback": [
      "\u001b[0;31m---------------------------------------------------------------------------\u001b[0m",
      "\u001b[0;31mAttributeError\u001b[0m                            Traceback (most recent call last)",
      "\u001b[0;32m/tmp/ipykernel_95056/3950956504.py\u001b[0m in \u001b[0;36m<module>\u001b[0;34m\u001b[0m\n\u001b[0;32m----> 1\u001b[0;31m \u001b[0mpcp\u001b[0m\u001b[0;34m.\u001b[0m\u001b[0mget_parent_missingness_pairs\u001b[0m\u001b[0;34m(\u001b[0m\u001b[0mmdata\u001b[0m\u001b[0;34m,\u001b[0m \u001b[0;36m0.05\u001b[0m\u001b[0;34m,\u001b[0m \u001b[0mindep_test\u001b[0m\u001b[0;34m=\u001b[0m\u001b[0mcit\u001b[0m\u001b[0;34m.\u001b[0m\u001b[0mmv_fisherz\u001b[0m\u001b[0;34m)\u001b[0m\u001b[0;34m\u001b[0m\u001b[0;34m\u001b[0m\u001b[0m\n\u001b[0m",
      "\u001b[0;32m~/miniconda3/envs/causal/lib/python3.7/site-packages/causallearn/search/ConstraintBased/PC.py\u001b[0m in \u001b[0;36mget_parent_missingness_pairs\u001b[0;34m(data, alpha, indep_test, stable)\u001b[0m\n\u001b[1;32m    273\u001b[0m     \u001b[0;31m# If the missingness indicator has no parent, then it will not be collected in prt_m\u001b[0m\u001b[0;34m\u001b[0m\u001b[0;34m\u001b[0m\u001b[0;34m\u001b[0m\u001b[0m\n\u001b[1;32m    274\u001b[0m     \u001b[0;32mfor\u001b[0m \u001b[0mmissingness_i\u001b[0m \u001b[0;32min\u001b[0m \u001b[0mmissingness_index\u001b[0m\u001b[0;34m:\u001b[0m\u001b[0;34m\u001b[0m\u001b[0;34m\u001b[0m\u001b[0m\n\u001b[0;32m--> 275\u001b[0;31m         \u001b[0mparent_of_missingness_i\u001b[0m \u001b[0;34m=\u001b[0m \u001b[0mdetect_parent\u001b[0m\u001b[0;34m(\u001b[0m\u001b[0mmissingness_i\u001b[0m\u001b[0;34m,\u001b[0m \u001b[0mdata\u001b[0m\u001b[0;34m,\u001b[0m \u001b[0malpha\u001b[0m\u001b[0;34m,\u001b[0m \u001b[0mindep_test\u001b[0m\u001b[0;34m,\u001b[0m \u001b[0mstable\u001b[0m\u001b[0;34m)\u001b[0m\u001b[0;34m\u001b[0m\u001b[0;34m\u001b[0m\u001b[0m\n\u001b[0m\u001b[1;32m    276\u001b[0m         \u001b[0;32mif\u001b[0m \u001b[0;32mnot\u001b[0m \u001b[0misempty\u001b[0m\u001b[0;34m(\u001b[0m\u001b[0mparent_of_missingness_i\u001b[0m\u001b[0;34m)\u001b[0m\u001b[0;34m:\u001b[0m\u001b[0;34m\u001b[0m\u001b[0;34m\u001b[0m\u001b[0m\n\u001b[1;32m    277\u001b[0m             \u001b[0mparent_missingness_pairs\u001b[0m\u001b[0;34m[\u001b[0m\u001b[0;34m'prt'\u001b[0m\u001b[0;34m]\u001b[0m\u001b[0;34m.\u001b[0m\u001b[0mappend\u001b[0m\u001b[0;34m(\u001b[0m\u001b[0mparent_of_missingness_i\u001b[0m\u001b[0;34m)\u001b[0m\u001b[0;34m\u001b[0m\u001b[0;34m\u001b[0m\u001b[0m\n",
      "\u001b[0;32m~/miniconda3/envs/causal/lib/python3.7/site-packages/causallearn/search/ConstraintBased/PC.py\u001b[0m in \u001b[0;36mdetect_parent\u001b[0;34m(r, data_, alpha, indep_test, stable)\u001b[0m\n\u001b[1;32m    335\u001b[0m     \u001b[0mno_of_var\u001b[0m \u001b[0;34m=\u001b[0m \u001b[0mdata\u001b[0m\u001b[0;34m.\u001b[0m\u001b[0mshape\u001b[0m\u001b[0;34m[\u001b[0m\u001b[0;36m1\u001b[0m\u001b[0;34m]\u001b[0m\u001b[0;34m\u001b[0m\u001b[0;34m\u001b[0m\u001b[0m\n\u001b[1;32m    336\u001b[0m     \u001b[0mcg\u001b[0m \u001b[0;34m=\u001b[0m \u001b[0mCausalGraph\u001b[0m\u001b[0;34m(\u001b[0m\u001b[0mno_of_var\u001b[0m\u001b[0;34m)\u001b[0m\u001b[0;34m\u001b[0m\u001b[0;34m\u001b[0m\u001b[0m\n\u001b[0;32m--> 337\u001b[0;31m     \u001b[0mcg\u001b[0m\u001b[0;34m.\u001b[0m\u001b[0mset_ind_test\u001b[0m\u001b[0;34m(\u001b[0m\u001b[0mCIT\u001b[0m\u001b[0;34m(\u001b[0m\u001b[0mdata\u001b[0m\u001b[0;34m,\u001b[0m \u001b[0mindep_test\u001b[0m\u001b[0;34m.\u001b[0m\u001b[0mmethod\u001b[0m\u001b[0;34m)\u001b[0m\u001b[0;34m)\u001b[0m\u001b[0;34m\u001b[0m\u001b[0;34m\u001b[0m\u001b[0m\n\u001b[0m\u001b[1;32m    338\u001b[0m \u001b[0;34m\u001b[0m\u001b[0m\n\u001b[1;32m    339\u001b[0m     \u001b[0mnode_ids\u001b[0m \u001b[0;34m=\u001b[0m \u001b[0mrange\u001b[0m\u001b[0;34m(\u001b[0m\u001b[0mno_of_var\u001b[0m\u001b[0;34m)\u001b[0m\u001b[0;34m\u001b[0m\u001b[0;34m\u001b[0m\u001b[0m\n",
      "\u001b[0;31mAttributeError\u001b[0m: 'str' object has no attribute 'method'"
     ]
    }
   ],
   "source": [
    "pcp.get_parent_missingness_pairs(mdata, 0.05, indep_test=cit.mv_fisherz)"
   ]
  },
  {
   "cell_type": "markdown",
   "metadata": {},
   "source": [
    "# End"
   ]
  },
  {
   "cell_type": "code",
   "execution_count": null,
   "metadata": {},
   "outputs": [],
   "source": []
  }
 ],
 "metadata": {
  "kernelspec": {
   "display_name": "Python 3 (ipykernel)",
   "language": "python",
   "name": "python3"
  },
  "language_info": {
   "codemirror_mode": {
    "name": "ipython",
    "version": 3
   },
   "file_extension": ".py",
   "mimetype": "text/x-python",
   "name": "python",
   "nbconvert_exporter": "python",
   "pygments_lexer": "ipython3",
   "version": "3.7.16"
  },
  "vscode": {
   "interpreter": {
    "hash": "aee8b7b246df8f9039afb4144a1f6fd8d2ca17a180786b69acc140d282b71a49"
   }
  }
 },
 "nbformat": 4,
 "nbformat_minor": 2
}
